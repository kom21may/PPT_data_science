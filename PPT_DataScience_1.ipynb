{
 "cells": [
  {
   "cell_type": "markdown",
   "id": "756e69ca",
   "metadata": {},
   "source": [
    "1. Write a Python program to reverse a string without using any built-in string reversal functions.\n",
    "2. Implement a function to check if a given string is a palindrome.\n",
    "3. Write a program to find the largest element in a given list.\n",
    "4. Implement a function to count the occurrence of each element in a list.\n",
    "5. Write a Python program to find the second largest number in a list.\n",
    "6. Implement a function to remove duplicate elements from a list.\n",
    "7. Write a program to calculate the factorial of a given number.\n",
    "8. Implement a function to check if a given number is prime.\n",
    "9. Write a Python program to sort a list of integers in ascending order.\n",
    "10. Implement a function to find the sum of all numbers in a list."
   ]
  },
  {
   "cell_type": "code",
   "execution_count": 1,
   "id": "0d355661",
   "metadata": {},
   "outputs": [],
   "source": [
    "#Write a Python program to reverse a string without using any built-in string reversal functions.\n",
    "def reverse_s(s):\n",
    "    n=len(s)\n",
    "    l=[]\n",
    "    for i in range(n-1,0,-1):\n",
    "        l.append(s[i])\n",
    "    return \"\".join(l)"
   ]
  },
  {
   "cell_type": "code",
   "execution_count": 2,
   "id": "24281f02",
   "metadata": {},
   "outputs": [
    {
     "data": {
      "text/plain": [
       "'iramuklamo'"
      ]
     },
     "execution_count": 2,
     "metadata": {},
     "output_type": "execute_result"
    }
   ],
   "source": [
    "reverse_s('komalkumari')"
   ]
  },
  {
   "cell_type": "code",
   "execution_count": 3,
   "id": "58a722ae",
   "metadata": {},
   "outputs": [],
   "source": [
    "#Implement a function to check if a given string is a palindrome.\n",
    "def palin(s):\n",
    "    r=s[::-1]\n",
    "    if(r==s):\n",
    "        return True\n",
    "    else:\n",
    "        return False"
   ]
  },
  {
   "cell_type": "code",
   "execution_count": 4,
   "id": "6b7de4a3",
   "metadata": {},
   "outputs": [
    {
     "data": {
      "text/plain": [
       "True"
      ]
     },
     "execution_count": 4,
     "metadata": {},
     "output_type": "execute_result"
    }
   ],
   "source": [
    "palin('MOM')"
   ]
  },
  {
   "cell_type": "code",
   "execution_count": 5,
   "id": "b5b869a3",
   "metadata": {},
   "outputs": [
    {
     "data": {
      "text/plain": [
       "False"
      ]
     },
     "execution_count": 5,
     "metadata": {},
     "output_type": "execute_result"
    }
   ],
   "source": [
    "palin('best')"
   ]
  },
  {
   "cell_type": "code",
   "execution_count": 6,
   "id": "141f449f",
   "metadata": {},
   "outputs": [
    {
     "name": "stdout",
     "output_type": "stream",
     "text": [
      "98\n"
     ]
    }
   ],
   "source": [
    "#Write a program to find the largest element in a given list.\n",
    "l=[12,34,65,98]\n",
    "print(max(l))"
   ]
  },
  {
   "cell_type": "code",
   "execution_count": 7,
   "id": "f2a3a615",
   "metadata": {},
   "outputs": [],
   "source": [
    "#Implement a function to count the occurrence of each element in a list.\n",
    "def count_occ(l):\n",
    "    ele_dict={}\n",
    "    for i in l:\n",
    "        if i in ele_dict:\n",
    "            ele_dict[i]+=1\n",
    "        else:\n",
    "            ele_dict[i]=1\n",
    "    return ele_dict"
   ]
  },
  {
   "cell_type": "code",
   "execution_count": 8,
   "id": "06983906",
   "metadata": {},
   "outputs": [
    {
     "data": {
      "text/plain": [
       "{3: 2, 2: 2, 4: 1, 7: 2, 8: 2, 9: 1}"
      ]
     },
     "execution_count": 8,
     "metadata": {},
     "output_type": "execute_result"
    }
   ],
   "source": [
    "count_occ([3,2,4,3,2,7,8,7,8,9])"
   ]
  },
  {
   "cell_type": "code",
   "execution_count": 16,
   "id": "2de2b8e4",
   "metadata": {},
   "outputs": [],
   "source": [
    "#Write a Python program to find the second largest number in a list.\n",
    "def second_l(l):\n",
    "    maxi=max(l)\n",
    "    l.remove(maxi)\n",
    "    \n",
    "    print(l)\n",
    "    se_max=max(l)\n",
    "    return se_max"
   ]
  },
  {
   "cell_type": "code",
   "execution_count": 17,
   "id": "9adb30c2",
   "metadata": {},
   "outputs": [
    {
     "name": "stdout",
     "output_type": "stream",
     "text": [
      "[4, 8, 4, 5]\n"
     ]
    },
    {
     "data": {
      "text/plain": [
       "8"
      ]
     },
     "execution_count": 17,
     "metadata": {},
     "output_type": "execute_result"
    }
   ],
   "source": [
    "second_l([4,8,4,5,9])"
   ]
  },
  {
   "cell_type": "code",
   "execution_count": 34,
   "id": "2d06e416",
   "metadata": {},
   "outputs": [],
   "source": [
    "#or we can implement it as below:\n",
    "\n",
    "def second_largest(l):\n",
    "    if(len(l)<2):\n",
    "        return False\n",
    "    large=float('-inf')\n",
    "    second_large=float('-inf')\n",
    "    for num in l:\n",
    "        if num>large:\n",
    "            second_large=large\n",
    "            large=num\n",
    "        elif num>second_large and num!=large:\n",
    "            second_large=num\n",
    "    if second_large == float('-inf'):\n",
    "        return \"There is no second largest element\"\n",
    "    return second_large"
   ]
  },
  {
   "cell_type": "code",
   "execution_count": 35,
   "id": "6716d52e",
   "metadata": {},
   "outputs": [
    {
     "data": {
      "text/plain": [
       "9"
      ]
     },
     "execution_count": 35,
     "metadata": {},
     "output_type": "execute_result"
    }
   ],
   "source": [
    "second_largest([2,3,4,7,9,0,11])"
   ]
  },
  {
   "cell_type": "code",
   "execution_count": 42,
   "id": "b851b3ae",
   "metadata": {},
   "outputs": [],
   "source": [
    "#Implement a function to remove duplicate elements from a list.\n",
    "def remove(l):\n",
    "    s=set()\n",
    "    li=[]\n",
    "    \n",
    "    for i in l:\n",
    "        if i not in s:\n",
    "            s.add(i)\n",
    "            li.append(i)\n",
    "    return li"
   ]
  },
  {
   "cell_type": "code",
   "execution_count": 43,
   "id": "72390d32",
   "metadata": {},
   "outputs": [
    {
     "data": {
      "text/plain": [
       "[2, 3, 4, 5, 9]"
      ]
     },
     "execution_count": 43,
     "metadata": {},
     "output_type": "execute_result"
    }
   ],
   "source": [
    "remove([2,3,4,5,9,4,3,5,5,3])"
   ]
  },
  {
   "cell_type": "code",
   "execution_count": 44,
   "id": "868c0e1f",
   "metadata": {},
   "outputs": [],
   "source": [
    "#Write a program to calculate the factorial of a given number.\n",
    "def factorial(n):\n",
    "    if(n==0 or n==1):\n",
    "        return 1\n",
    "    return n*factorial(n-1)"
   ]
  },
  {
   "cell_type": "code",
   "execution_count": 45,
   "id": "1257414c",
   "metadata": {},
   "outputs": [
    {
     "data": {
      "text/plain": [
       "24"
      ]
     },
     "execution_count": 45,
     "metadata": {},
     "output_type": "execute_result"
    }
   ],
   "source": [
    "factorial(4)"
   ]
  },
  {
   "cell_type": "code",
   "execution_count": 46,
   "id": "76211f24",
   "metadata": {},
   "outputs": [
    {
     "data": {
      "text/plain": [
       "120"
      ]
     },
     "execution_count": 46,
     "metadata": {},
     "output_type": "execute_result"
    }
   ],
   "source": [
    "factorial(5)"
   ]
  },
  {
   "cell_type": "code",
   "execution_count": 63,
   "id": "d15a05da",
   "metadata": {},
   "outputs": [],
   "source": [
    "#Implement a function to check if a given number is prime.\n",
    "import math\n",
    "def prime_n(n):\n",
    "    if(n<=1):\n",
    "        return False\n",
    "        \n",
    "    for i in range(2,int(math.sqrt(n))+1):\n",
    "        if(n%i==0):\n",
    "            return False\n",
    "            \n",
    "           \n",
    "    return True\n",
    "        \n",
    "        "
   ]
  },
  {
   "cell_type": "code",
   "execution_count": 64,
   "id": "e0f5d79e",
   "metadata": {},
   "outputs": [
    {
     "data": {
      "text/plain": [
       "False"
      ]
     },
     "execution_count": 64,
     "metadata": {},
     "output_type": "execute_result"
    }
   ],
   "source": [
    "prime_n(9)"
   ]
  },
  {
   "cell_type": "code",
   "execution_count": 65,
   "id": "12c4c17f",
   "metadata": {},
   "outputs": [
    {
     "data": {
      "text/plain": [
       "True"
      ]
     },
     "execution_count": 65,
     "metadata": {},
     "output_type": "execute_result"
    }
   ],
   "source": [
    "prime_n(5)"
   ]
  },
  {
   "cell_type": "code",
   "execution_count": 66,
   "id": "8e6bd9c5",
   "metadata": {},
   "outputs": [
    {
     "data": {
      "text/plain": [
       "True"
      ]
     },
     "execution_count": 66,
     "metadata": {},
     "output_type": "execute_result"
    }
   ],
   "source": [
    "prime_n(2)"
   ]
  },
  {
   "cell_type": "code",
   "execution_count": 67,
   "id": "94bc5fb5",
   "metadata": {},
   "outputs": [
    {
     "data": {
      "text/plain": [
       "False"
      ]
     },
     "execution_count": 67,
     "metadata": {},
     "output_type": "execute_result"
    }
   ],
   "source": [
    "prime_n(1)"
   ]
  },
  {
   "cell_type": "code",
   "execution_count": 71,
   "id": "6fc6e94f",
   "metadata": {},
   "outputs": [],
   "source": [
    "#Write a Python program to sort a list of integers in ascending order.\n",
    "def sort_n(l):\n",
    "    return sorted(l)"
   ]
  },
  {
   "cell_type": "code",
   "execution_count": 72,
   "id": "b6a47f0b",
   "metadata": {},
   "outputs": [
    {
     "data": {
      "text/plain": [
       "[1, 2, 2, 3, 4, 6, 7, 9]"
      ]
     },
     "execution_count": 72,
     "metadata": {},
     "output_type": "execute_result"
    }
   ],
   "source": [
    "sort_n([2,4,2,1,3,9,7,6])"
   ]
  },
  {
   "cell_type": "code",
   "execution_count": 73,
   "id": "eb9d988f",
   "metadata": {},
   "outputs": [],
   "source": [
    "#Implement a function to find the sum of all numbers in a list.\n",
    "def sum_list(l):\n",
    "    sum=0\n",
    "    for i in l:\n",
    "        sum+=i\n",
    "    return sum"
   ]
  },
  {
   "cell_type": "code",
   "execution_count": 74,
   "id": "c4bec024",
   "metadata": {},
   "outputs": [
    {
     "data": {
      "text/plain": [
       "14"
      ]
     },
     "execution_count": 74,
     "metadata": {},
     "output_type": "execute_result"
    }
   ],
   "source": [
    "sum_list([2,3,4,5])"
   ]
  },
  {
   "cell_type": "markdown",
   "id": "ac585847",
   "metadata": {},
   "source": [
    "11. Write a program to find the common elements between two lists.\n",
    "12. Implement a function to check if a given string is an anagram of another string.\n",
    "13. Write a Python program to generate all permutations of a given string.\n",
    "14. Implement a function to calculate the Fibonacci sequence up to a given number of terms.\n",
    "15. Write a program to find the median of a list of numbers.\n",
    "16. Implement a function to check if a given list is sorted in non-decreasing order.\n",
    "17. Write a Python program to find the intersection of two lists.\n",
    "18. Implement a function to find the maximum subarray sum in a given list.\n",
    "19. Write a program to remove all vowels from a given string.\n",
    "20. Implement a function to reverse the order of words in a given sentence."
   ]
  },
  {
   "cell_type": "code",
   "execution_count": 79,
   "id": "4db7bdc3",
   "metadata": {},
   "outputs": [
    {
     "name": "stdout",
     "output_type": "stream",
     "text": [
      "[3, 4]\n"
     ]
    }
   ],
   "source": [
    "#Write a program to find the common elements between two lists.\n",
    "l1=[1,2,3,4]\n",
    "l2=[3,4,5]\n",
    "#As l1.intersection(l2) doesn't work in list it should work on set\n",
    "set1=set(l1)\n",
    "set2=set(l2)\n",
    "print(list(set1.intersection(set2)))"
   ]
  },
  {
   "cell_type": "code",
   "execution_count": 83,
   "id": "a0a347d1",
   "metadata": {},
   "outputs": [],
   "source": [
    "#Implement a function to check if a given string is an anagram of another string.\n",
    "def anagram(s1,s2):\n",
    "    char_count={}\n",
    "    s1=s1.lower().replace(\" \",\"\")\n",
    "    s2=s2.lower().replace(\" \",\"\")\n",
    "    if(len(s1)!=len(s2)):\n",
    "        return False\n",
    "    for char in s1:\n",
    "        if char in char_count:\n",
    "            char_count[char]+=1\n",
    "        else:\n",
    "            char_count[char]=1\n",
    "    for char in s2:\n",
    "        if char in char_count:\n",
    "            char_count[char]-=1\n",
    "            if char_count[char]==0:\n",
    "                del char_count[char]\n",
    "        else:\n",
    "            return False\n",
    "    return len(char_count)==0"
   ]
  },
  {
   "cell_type": "code",
   "execution_count": 84,
   "id": "32e687c3",
   "metadata": {},
   "outputs": [
    {
     "data": {
      "text/plain": [
       "True"
      ]
     },
     "execution_count": 84,
     "metadata": {},
     "output_type": "execute_result"
    }
   ],
   "source": [
    "anagram('silent','listen')"
   ]
  },
  {
   "cell_type": "code",
   "execution_count": 85,
   "id": "26e99a83",
   "metadata": {},
   "outputs": [
    {
     "data": {
      "text/plain": [
       "False"
      ]
     },
     "execution_count": 85,
     "metadata": {},
     "output_type": "execute_result"
    }
   ],
   "source": [
    "anagram('komal','amlkoku')"
   ]
  },
  {
   "cell_type": "code",
   "execution_count": 92,
   "id": "0016ff9b",
   "metadata": {},
   "outputs": [],
   "source": [
    "#Write a Python program to generate all permutations of a given string.\n",
    "def generate_perm(s):\n",
    "    l=[]\n",
    "    if(len(s)<=1):\n",
    "        return [s]\n",
    "    for i in range(len(s)):\n",
    "        curr=s[i]\n",
    "        remain=s[:i]+s[i+1:]\n",
    "        sub_perm=generate_perm(remain)\n",
    "        for i in sub_perm:\n",
    "            l.append(curr+i)\n",
    "    return l\n",
    "            "
   ]
  },
  {
   "cell_type": "code",
   "execution_count": 93,
   "id": "fd90015d",
   "metadata": {},
   "outputs": [
    {
     "data": {
      "text/plain": [
       "['abc', 'acb', 'bac', 'bca', 'cab', 'cba']"
      ]
     },
     "execution_count": 93,
     "metadata": {},
     "output_type": "execute_result"
    }
   ],
   "source": [
    "generate_perm('abc')"
   ]
  },
  {
   "cell_type": "code",
   "execution_count": 98,
   "id": "65c7fb7a",
   "metadata": {},
   "outputs": [],
   "source": [
    "#Implement a function to calculate the Fibonacci sequence up to a given number of terms.\n",
    "def fib(n):\n",
    "    a=0\n",
    "    b=1\n",
    "    if n==0 or n==1:\n",
    "        return 1\n",
    "    for i in range(n):\n",
    "        c=a+b\n",
    "        print(a,end=\" \")\n",
    "        a=b\n",
    "        b=c\n",
    "        \n",
    "    \n",
    "        \n",
    "        "
   ]
  },
  {
   "cell_type": "code",
   "execution_count": 99,
   "id": "f240580b",
   "metadata": {},
   "outputs": [
    {
     "name": "stdout",
     "output_type": "stream",
     "text": [
      "0 1 1 2 3 5 8 13 21 34 "
     ]
    }
   ],
   "source": [
    "fib(10)"
   ]
  },
  {
   "cell_type": "code",
   "execution_count": 106,
   "id": "1a4171e7",
   "metadata": {},
   "outputs": [],
   "source": [
    "#Write a program to find the median of a list of numbers.\n",
    "def find_median(numbers):\n",
    "    numbers.sort() \n",
    "    \n",
    "    length = len(numbers)\n",
    "    middle = length // 2\n",
    "    \n",
    "    if length % 2 == 0:\n",
    "        # If the list has an even number of elements, average the middle two numbers\n",
    "        median = (numbers[middle - 1] + numbers[middle]) / 2\n",
    "    else:\n",
    "        # If the list has an odd number of elements, take the middle number as the median\n",
    "        median = numbers[middle]\n",
    "    \n",
    "    return median\n",
    "\n",
    "\n",
    "my_numbers = [5, 2, 8, 9, 1, 3, 7, 4, 6]\n",
    "result = find_median(my_numbers)\n",
    "#1,2,3,4,5,6,7,8,9"
   ]
  },
  {
   "cell_type": "code",
   "execution_count": 107,
   "id": "bd2d81c7",
   "metadata": {},
   "outputs": [
    {
     "data": {
      "text/plain": [
       "5"
      ]
     },
     "execution_count": 107,
     "metadata": {},
     "output_type": "execute_result"
    }
   ],
   "source": [
    "result"
   ]
  },
  {
   "cell_type": "code",
   "execution_count": 108,
   "id": "b6d3dbb0",
   "metadata": {},
   "outputs": [],
   "source": [
    "#Implement a function to check if a given list is sorted in non-decreasing order.\n",
    "#i.e ascending order i.e character should be smaller then next\n",
    "def nondec(l):\n",
    "    for i in range(len(l)-1):\n",
    "        if(l[i]>l[i+1]):\n",
    "            return False\n",
    "    return True"
   ]
  },
  {
   "cell_type": "code",
   "execution_count": 109,
   "id": "cbc8965a",
   "metadata": {},
   "outputs": [
    {
     "data": {
      "text/plain": [
       "True"
      ]
     },
     "execution_count": 109,
     "metadata": {},
     "output_type": "execute_result"
    }
   ],
   "source": [
    "nondec([2,3,4,5])"
   ]
  },
  {
   "cell_type": "code",
   "execution_count": 110,
   "id": "f9a38f56",
   "metadata": {},
   "outputs": [
    {
     "data": {
      "text/plain": [
       "False"
      ]
     },
     "execution_count": 110,
     "metadata": {},
     "output_type": "execute_result"
    }
   ],
   "source": [
    "nondec([8,6,7,9])"
   ]
  },
  {
   "cell_type": "code",
   "execution_count": 114,
   "id": "ee659d76",
   "metadata": {},
   "outputs": [],
   "source": [
    "#Write a Python program to find the intersection of two lists.\n",
    "def inters(l1,l2):\n",
    "    set1=set(l1)\n",
    "    set2=set(l2)\n",
    "    \n",
    "    return list(set1.intersection(set2))\n",
    "    "
   ]
  },
  {
   "cell_type": "code",
   "execution_count": 115,
   "id": "79741096",
   "metadata": {},
   "outputs": [
    {
     "data": {
      "text/plain": [
       "[3, 4]"
      ]
     },
     "execution_count": 115,
     "metadata": {},
     "output_type": "execute_result"
    }
   ],
   "source": [
    "inters([2,3,4],[5,4,3])"
   ]
  },
  {
   "cell_type": "code",
   "execution_count": 116,
   "id": "36ed6fda",
   "metadata": {},
   "outputs": [],
   "source": [
    "#Implement a function to find the maximum subarray sum in a given list.\n",
    "def max_sum(l):\n",
    "    curr_sum=0\n",
    "    max_total=float('-inf')\n",
    "    for i in l:\n",
    "        curr_sum=max(i,i+curr_sum)\n",
    "        max_total=max(curr_sum,max_total)\n",
    "    return max_total\n",
    "        "
   ]
  },
  {
   "cell_type": "code",
   "execution_count": 118,
   "id": "6aacc547",
   "metadata": {},
   "outputs": [
    {
     "data": {
      "text/plain": [
       "20"
      ]
     },
     "execution_count": 118,
     "metadata": {},
     "output_type": "execute_result"
    }
   ],
   "source": [
    "max_sum([3,2,4,5,6,-5,-3])"
   ]
  },
  {
   "cell_type": "code",
   "execution_count": 121,
   "id": "8e5d51dd",
   "metadata": {},
   "outputs": [],
   "source": [
    "#Write a program to remove all vowels from a given string.\n",
    "def remove_vowel(s):\n",
    "    li='aeiouAEIOU'\n",
    "    result=\"\"\n",
    "    for i in s:\n",
    "        if i not in li:\n",
    "            \n",
    "            result+=i\n",
    "    return result\n",
    "            "
   ]
  },
  {
   "cell_type": "code",
   "execution_count": 122,
   "id": "e4fefa70",
   "metadata": {},
   "outputs": [
    {
     "data": {
      "text/plain": [
       "'nrn'"
      ]
     },
     "execution_count": 122,
     "metadata": {},
     "output_type": "execute_result"
    }
   ],
   "source": [
    "remove_vowel('ineuron')"
   ]
  },
  {
   "cell_type": "code",
   "execution_count": 126,
   "id": "f3af9f60",
   "metadata": {},
   "outputs": [],
   "source": [
    "#Implement a function to reverse the order of words in a given sentence.\n",
    "def reverse_sent(sentence):\n",
    "    words=sentence.split()\n",
    "    reversed_words=words[::-1]\n",
    "    return \" \".join(reversed_words)\n",
    "    "
   ]
  },
  {
   "cell_type": "code",
   "execution_count": 127,
   "id": "7b13671b",
   "metadata": {},
   "outputs": [
    {
     "data": {
      "text/plain": [
       "'language best the is python'"
      ]
     },
     "execution_count": 127,
     "metadata": {},
     "output_type": "execute_result"
    }
   ],
   "source": [
    "reverse_sent('python is the best language')"
   ]
  },
  {
   "cell_type": "markdown",
   "id": "325b5c54",
   "metadata": {},
   "source": [
    " 21. Write a Python program to check if two strings are anagrams of each other.\n",
    "22. Implement a function to find the first non-repeating character in a string.\n",
    "23. Write a program to find the prime factors of a given number.\n",
    "24. Implement a function to check if a given number is a power of two.\n",
    "25. Write a Python program to merge two sorted lists into a single sorted list.\n",
    "26. Implement a function to find the mode of a list of numbers.\n",
    "27. Write a program to find the greatest common divisor (GCD) of two numbers.\n",
    "28. Implement a function to calculate the square root of a given number.\n",
    "29. Write a Python program to check if a given string is a valid palindrome ignoring non-alphanumeric characters.\n",
    "30. Implement a function to find the minimum element in a rotated sorted list."
   ]
  },
  {
   "cell_type": "code",
   "execution_count": 1,
   "id": "01e2493e",
   "metadata": {},
   "outputs": [],
   "source": [
    "#Write a Python program to check if two strings are anagrams of each other.\n",
    "def anagram(s1,s2):\n",
    "    char_count={}\n",
    "    s1=s1.lower().replace(\" \",\"\")\n",
    "    s2=s2.lower().replace(\" \",\"\")\n",
    "    if(len(s1)!=len(s2)):\n",
    "        return False\n",
    "    for char in s1:\n",
    "        if char in char_count:\n",
    "            char_count[char]+=1\n",
    "        else:\n",
    "            char_count[char]=1\n",
    "    for char in s2:\n",
    "        if char in char_count:\n",
    "            char_count[char]-=1\n",
    "            if char_count[char]==0:\n",
    "                del char_count[char]\n",
    "        else:\n",
    "            return False\n",
    "    return len(char_count)==0\n"
   ]
  },
  {
   "cell_type": "code",
   "execution_count": 10,
   "id": "49434dda",
   "metadata": {},
   "outputs": [],
   "source": [
    "#Implement a function to find the first non-repeating character in a string.\n",
    "def nonre(s):\n",
    "    char_count={}\n",
    "    for char in s:\n",
    "        if char in char_count:\n",
    "            char_count[char]+=1\n",
    "        else:\n",
    "            char_count[char]=1\n",
    "    for i in s:\n",
    "        if char_count[i]==1:\n",
    "            return i"
   ]
  },
  {
   "cell_type": "code",
   "execution_count": 12,
   "id": "f634e222",
   "metadata": {},
   "outputs": [
    {
     "data": {
      "text/plain": [
       "'o'"
      ]
     },
     "execution_count": 12,
     "metadata": {},
     "output_type": "execute_result"
    }
   ],
   "source": [
    "nonre('malomal')"
   ]
  },
  {
   "cell_type": "code",
   "execution_count": 17,
   "id": "6c2ee8c8",
   "metadata": {},
   "outputs": [],
   "source": [
    "#Write a program to find the prime factors of a given number.\n",
    "def prime_fac(num):\n",
    "    l=[]\n",
    "    i=2\n",
    "    while i*i<=num:\n",
    "        if (num%i)!=0:\n",
    "            i=i+1\n",
    "        else:\n",
    "            num=num//i\n",
    "            l.append(i)\n",
    "    if num>1:\n",
    "        l.append(num)\n",
    "    return l"
   ]
  },
  {
   "cell_type": "code",
   "execution_count": 18,
   "id": "244dbe7e",
   "metadata": {},
   "outputs": [
    {
     "data": {
      "text/plain": [
       "[2, 2, 2, 7]"
      ]
     },
     "execution_count": 18,
     "metadata": {},
     "output_type": "execute_result"
    }
   ],
   "source": [
    "prime_fac(56)"
   ]
  },
  {
   "cell_type": "code",
   "execution_count": 19,
   "id": "188d6e60",
   "metadata": {},
   "outputs": [],
   "source": [
    "#Implement a function to check if a given number is a power of two.\n",
    "def power_of_two(n):\n",
    "    if n<=1:\n",
    "        return False\n",
    "    else:\n",
    "        return (n&(n-1))==0"
   ]
  },
  {
   "cell_type": "code",
   "execution_count": 20,
   "id": "9379d9f8",
   "metadata": {},
   "outputs": [
    {
     "data": {
      "text/plain": [
       "True"
      ]
     },
     "execution_count": 20,
     "metadata": {},
     "output_type": "execute_result"
    }
   ],
   "source": [
    "power_of_two(16)"
   ]
  },
  {
   "cell_type": "code",
   "execution_count": 21,
   "id": "373f8be0",
   "metadata": {},
   "outputs": [
    {
     "data": {
      "text/plain": [
       "False"
      ]
     },
     "execution_count": 21,
     "metadata": {},
     "output_type": "execute_result"
    }
   ],
   "source": [
    "power_of_two(10)"
   ]
  },
  {
   "cell_type": "code",
   "execution_count": 25,
   "id": "81cb6a65",
   "metadata": {},
   "outputs": [],
   "source": [
    "#Write a Python program to merge two sorted lists into a single sorted list.\n",
    "def mergesort(l1,l2):\n",
    "    merge_list=[]\n",
    "    i,j=0,0\n",
    "    while i<len(l1) and j<len(l2):\n",
    "        if(l1[i]<l2[j]):\n",
    "            merge_list.append(l1[i])\n",
    "            i+=1\n",
    "        else:\n",
    "            merge_list.append(l2[j])\n",
    "            j+=1\n",
    "    while(i<len(l1)):\n",
    "        merge_list.append(l1[i])\n",
    "        i+=1\n",
    "    while(j<len(l2)):\n",
    "        merge_list.append(l2[j])\n",
    "        j+=1\n",
    "    return merge_list"
   ]
  },
  {
   "cell_type": "code",
   "execution_count": 26,
   "id": "967dd488",
   "metadata": {},
   "outputs": [
    {
     "data": {
      "text/plain": [
       "[1, 2, 3, 4, 6, 9]"
      ]
     },
     "execution_count": 26,
     "metadata": {},
     "output_type": "execute_result"
    }
   ],
   "source": [
    "k=mergesort([3,4,6],[1,2,9])\n",
    "k"
   ]
  },
  {
   "cell_type": "code",
   "execution_count": 37,
   "id": "90718fcd",
   "metadata": {},
   "outputs": [],
   "source": [
    "#Implement a function to find the mode of a list of numbers.\n",
    "def mode(l):\n",
    "    count={}\n",
    "    for i in l:\n",
    "        if i in count:\n",
    "            \n",
    "            count[i]+=1\n",
    "        else:\n",
    "            count[i]=1\n",
    "    max_count=max(count.values())\n",
    "    for i,j in count.items():\n",
    "        if j==max_count:\n",
    "            return i\n",
    "        "
   ]
  },
  {
   "cell_type": "code",
   "execution_count": 38,
   "id": "9f32a860",
   "metadata": {},
   "outputs": [
    {
     "data": {
      "text/plain": [
       "2"
      ]
     },
     "execution_count": 38,
     "metadata": {},
     "output_type": "execute_result"
    }
   ],
   "source": [
    "mode([2,3,4,5,2,2])"
   ]
  },
  {
   "cell_type": "code",
   "execution_count": 44,
   "id": "1af531dc",
   "metadata": {},
   "outputs": [],
   "source": [
    "#Write a program to find the greatest common divisor (GCD) of two numbers.\n",
    "def gcd(a,b):\n",
    "    while b!=0:\n",
    "        a,b=b,a%b\n",
    "    return a"
   ]
  },
  {
   "cell_type": "code",
   "execution_count": 45,
   "id": "1343a472",
   "metadata": {},
   "outputs": [
    {
     "data": {
      "text/plain": [
       "12"
      ]
     },
     "execution_count": 45,
     "metadata": {},
     "output_type": "execute_result"
    }
   ],
   "source": [
    "gcd(48,36)"
   ]
  },
  {
   "cell_type": "code",
   "execution_count": 57,
   "id": "4d608ae3",
   "metadata": {},
   "outputs": [],
   "source": [
    "#Implement a function to calculate the square root of a given number.\n",
    "def sq(num):\n",
    "    i=1\n",
    "    flag=0\n",
    "    while i*i<num:\n",
    "        i=i+1\n",
    "        if(i*i==num):\n",
    "            flag=1\n",
    "            return i\n",
    "    if flag==0:    \n",
    "        raise ValueError('Not Possible')\n",
    "        "
   ]
  },
  {
   "cell_type": "code",
   "execution_count": 59,
   "id": "0ba2b5b1",
   "metadata": {},
   "outputs": [
    {
     "data": {
      "text/plain": [
       "11"
      ]
     },
     "execution_count": 59,
     "metadata": {},
     "output_type": "execute_result"
    }
   ],
   "source": [
    "sq(121)"
   ]
  },
  {
   "cell_type": "code",
   "execution_count": 64,
   "id": "7a559470",
   "metadata": {},
   "outputs": [],
   "source": [
    "#Write a Python program to check if a given string is a valid palindrome ignoring non-alphanumeric characters.\n",
    "import re\n",
    "def pali_ialphanum(s):\n",
    "    alpha_num_string=re.sub(r'[^a-zA-Z-9]','',s).lower()\n",
    "    return alpha_num_string==alpha_num_string[::-1]\n",
    "    "
   ]
  },
  {
   "cell_type": "code",
   "execution_count": 65,
   "id": "9e82f068",
   "metadata": {},
   "outputs": [
    {
     "data": {
      "text/plain": [
       "True"
      ]
     },
     "execution_count": 65,
     "metadata": {},
     "output_type": "execute_result"
    }
   ],
   "source": [
    "pali_ialphanum('A man, a plan, a canal: Panama')"
   ]
  },
  {
   "cell_type": "code",
   "execution_count": 66,
   "id": "c469610d",
   "metadata": {},
   "outputs": [
    {
     "data": {
      "text/plain": [
       "False"
      ]
     },
     "execution_count": 66,
     "metadata": {},
     "output_type": "execute_result"
    }
   ],
   "source": [
    "pali_ialphanum('A man, a plan, a cnal: Panama')"
   ]
  },
  {
   "cell_type": "code",
   "execution_count": 71,
   "id": "a9cb0475",
   "metadata": {},
   "outputs": [],
   "source": [
    "#Implement a function to find the minimum element in a rotated sorted list.\n",
    "def min_sorted_list(l):\n",
    "    left=0\n",
    "    right=len(l)-1\n",
    "    while(left<right):\n",
    "        mid=left+(right-left)//2\n",
    "        if(l[mid]>l[right]):\n",
    "            left=mid+1\n",
    "        elif(l[mid]<l[right]):\n",
    "            right=mid\n",
    "        else:\n",
    "            right-=1\n",
    "    return l[left]"
   ]
  },
  {
   "cell_type": "code",
   "execution_count": 73,
   "id": "84eafab7",
   "metadata": {},
   "outputs": [
    {
     "data": {
      "text/plain": [
       "1"
      ]
     },
     "execution_count": 73,
     "metadata": {},
     "output_type": "execute_result"
    }
   ],
   "source": [
    "min_sorted_list([2,3,4,7,1])"
   ]
  },
  {
   "cell_type": "markdown",
   "id": "3af15503",
   "metadata": {},
   "source": [
    "31. Write a program to find the sum of all even numbers in a list.\n",
    "32. Implement a function to calculate the power of a number using recursion.\n",
    "33. Write a Python program to remove duplicates from a list while preserving the order.\n",
    "34. Implement a function to find the longest common prefix among a list of strings.\n",
    "35. Write a program to check if a given number is a perfect square.\n",
    "36. Implement a function to calculate the product of all elements in a list.\n",
    "37. Write a Python program to reverse the order of words in a sentence while preserving the word order.\n",
    "38. Implement a function to find the missing number in a given list of consecutive numbers.\n",
    "39. Write a program to find the sum of digits of a given number.\n",
    "40. Implement a function to check if a given string is a valid palindrome considering case sensitivity.\n"
   ]
  },
  {
   "cell_type": "code",
   "execution_count": 76,
   "id": "04928885",
   "metadata": {},
   "outputs": [],
   "source": [
    "#Write a program to find the sum of all even numbers in a list.\n",
    "def sum_even_list(l):\n",
    "    sum=0\n",
    "    for i in l:\n",
    "        if i%2==0:\n",
    "            sum+=i\n",
    "    return sum\n",
    "            "
   ]
  },
  {
   "cell_type": "code",
   "execution_count": 77,
   "id": "0834ca6c",
   "metadata": {},
   "outputs": [
    {
     "data": {
      "text/plain": [
       "12"
      ]
     },
     "execution_count": 77,
     "metadata": {},
     "output_type": "execute_result"
    }
   ],
   "source": [
    "sum_even_list([2,3,4,5,6])"
   ]
  },
  {
   "cell_type": "code",
   "execution_count": 78,
   "id": "cb390068",
   "metadata": {},
   "outputs": [],
   "source": [
    "#32. Implement a function to calculate the power of a number using recursion.\n",
    "\n",
    "\n",
    "def power(base,exp):\n",
    "    if exp==0:\n",
    "        return 1\n",
    "    elif exp>0:\n",
    "        return base*power(base,exp-1)\n",
    "    else:\n",
    "        return 1/(base*power(base,-exp-1))\n"
   ]
  },
  {
   "cell_type": "code",
   "execution_count": 79,
   "id": "4154e27b",
   "metadata": {},
   "outputs": [
    {
     "data": {
      "text/plain": [
       "8"
      ]
     },
     "execution_count": 79,
     "metadata": {},
     "output_type": "execute_result"
    }
   ],
   "source": [
    "power(2,3)"
   ]
  },
  {
   "cell_type": "code",
   "execution_count": 80,
   "id": "ae6d79f4",
   "metadata": {},
   "outputs": [
    {
     "data": {
      "text/plain": [
       "0.125"
      ]
     },
     "execution_count": 80,
     "metadata": {},
     "output_type": "execute_result"
    }
   ],
   "source": [
    "power(2,-3)"
   ]
  },
  {
   "cell_type": "code",
   "execution_count": 81,
   "id": "2beb3593",
   "metadata": {},
   "outputs": [],
   "source": [
    "#Write a Python program to remove duplicates from a list while preserving the order.\n",
    "def remove_duplicate(l):\n",
    "    s1=set()\n",
    "    l_new=[]\n",
    "    for i in l:\n",
    "        if i not in s1:\n",
    "            s1.add(i)\n",
    "            l_new.append(i)\n",
    "    return l_new"
   ]
  },
  {
   "cell_type": "code",
   "execution_count": 82,
   "id": "79e96e6a",
   "metadata": {},
   "outputs": [
    {
     "data": {
      "text/plain": [
       "[2, 3, 4, 5]"
      ]
     },
     "execution_count": 82,
     "metadata": {},
     "output_type": "execute_result"
    }
   ],
   "source": [
    "remove_duplicate([2,3,4,2,3,5])"
   ]
  },
  {
   "cell_type": "code",
   "execution_count": 83,
   "id": "0351cfcd",
   "metadata": {},
   "outputs": [
    {
     "name": "stdout",
     "output_type": "stream",
     "text": [
      "Longest common prefix: fl\n"
     ]
    }
   ],
   "source": [
    "#Implement a function to find the longest common prefix among a list of strings.\n",
    "def longest_common_prefix(strs):\n",
    "    if not strs:\n",
    "        return \"\"\n",
    "\n",
    "    shortest = min(strs, key=len)\n",
    "\n",
    "    for i, char in enumerate(shortest):\n",
    "        for string in strs:\n",
    "            if string[i] != char:\n",
    "                return shortest[:i]\n",
    "\n",
    "    return shortest\n",
    "input_list = [\"flower\", \"flow\", \"flight\"]\n",
    "result = longest_common_prefix(input_list)\n",
    "print(\"Longest common prefix:\", result)"
   ]
  },
  {
   "cell_type": "code",
   "execution_count": 86,
   "id": "abfdfa49",
   "metadata": {},
   "outputs": [],
   "source": [
    "#Write a program to check if a given number is a perfect square.\n",
    "def perfect_sq(n):\n",
    "    if n<=1:\n",
    "        return False\n",
    "    i=2\n",
    "    while(i*i<=n):\n",
    "        i=i+1\n",
    "        if(i*i==n):\n",
    "            return True\n",
    "    return False\n",
    "    \n",
    "    "
   ]
  },
  {
   "cell_type": "code",
   "execution_count": 87,
   "id": "9d55ad4b",
   "metadata": {},
   "outputs": [
    {
     "data": {
      "text/plain": [
       "False"
      ]
     },
     "execution_count": 87,
     "metadata": {},
     "output_type": "execute_result"
    }
   ],
   "source": [
    "perfect_sq(14)"
   ]
  },
  {
   "cell_type": "code",
   "execution_count": 88,
   "id": "cc5aa59b",
   "metadata": {},
   "outputs": [
    {
     "data": {
      "text/plain": [
       "True"
      ]
     },
     "execution_count": 88,
     "metadata": {},
     "output_type": "execute_result"
    }
   ],
   "source": [
    "perfect_sq(64)"
   ]
  },
  {
   "cell_type": "code",
   "execution_count": 89,
   "id": "d0c04cec",
   "metadata": {},
   "outputs": [],
   "source": [
    "#Implement a function to calculate the product of all elements in a list.\n",
    "def product(l):\n",
    "    pro=1\n",
    "    for i in l:\n",
    "        pro*=i\n",
    "    return pro"
   ]
  },
  {
   "cell_type": "code",
   "execution_count": 91,
   "id": "689138ea",
   "metadata": {},
   "outputs": [
    {
     "data": {
      "text/plain": [
       "24"
      ]
     },
     "execution_count": 91,
     "metadata": {},
     "output_type": "execute_result"
    }
   ],
   "source": [
    "product([1,2,3,4])"
   ]
  },
  {
   "cell_type": "code",
   "execution_count": 98,
   "id": "6a26bd5c",
   "metadata": {},
   "outputs": [],
   "source": [
    "#Write a Python program to reverse the order of words in a sentence while preserving the word order.\n",
    "def reverse_order_preserve(s):\n",
    "    word=s.split()\n",
    "    reverse_word=word[::-1]\n",
    "    \n",
    "    return \" \".join(reverse_word)"
   ]
  },
  {
   "cell_type": "code",
   "execution_count": 99,
   "id": "173bd07f",
   "metadata": {},
   "outputs": [
    {
     "data": {
      "text/plain": [
       "'best is python'"
      ]
     },
     "execution_count": 99,
     "metadata": {},
     "output_type": "execute_result"
    }
   ],
   "source": [
    "reverse_order_preserve('python is best')"
   ]
  },
  {
   "cell_type": "code",
   "execution_count": 102,
   "id": "82d6e0b5",
   "metadata": {},
   "outputs": [],
   "source": [
    "#Implement a function to find the missing number in a given list of consecutive numbers.\n",
    "def missing_number(num):\n",
    "    n=len(num)+1\n",
    "    expected_sum=(n*(n+1))//2\n",
    "    actual_sum=sum(num)\n",
    "    missing=expected_sum-actual_sum\n",
    "    return missing"
   ]
  },
  {
   "cell_type": "code",
   "execution_count": 103,
   "id": "bf05831a",
   "metadata": {},
   "outputs": [
    {
     "data": {
      "text/plain": [
       "3"
      ]
     },
     "execution_count": 103,
     "metadata": {},
     "output_type": "execute_result"
    }
   ],
   "source": [
    "missing_number([1,2,4,5,6])"
   ]
  },
  {
   "cell_type": "code",
   "execution_count": 104,
   "id": "718d1e97",
   "metadata": {},
   "outputs": [],
   "source": [
    "#Write a program to find the sum of digits of a given number.\n",
    "def sum_digit(num):\n",
    "    sum_=0\n",
    "    while(num!=0):\n",
    "        r=num%10\n",
    "        sum_=sum_+r\n",
    "        num=num//10\n",
    "    return sum_"
   ]
  },
  {
   "cell_type": "code",
   "execution_count": 105,
   "id": "ae27772b",
   "metadata": {},
   "outputs": [
    {
     "data": {
      "text/plain": [
       "6"
      ]
     },
     "execution_count": 105,
     "metadata": {},
     "output_type": "execute_result"
    }
   ],
   "source": [
    "sum_digit(123)"
   ]
  },
  {
   "cell_type": "code",
   "execution_count": 107,
   "id": "1d074c44",
   "metadata": {},
   "outputs": [],
   "source": [
    "#Implement a function to check if a given string is a valid palindrome considering case sensitivity.\n",
    "def is_valid_palindrome(string):\n",
    "    # Remove non-alphanumeric characters and convert to lowercase\n",
    "    string = ''.join(ch.lower() for ch in string if ch.isalnum())\n",
    "    \n",
    "    # Check if the string is equal to its reverse\n",
    "    return string == string[::-1]\n",
    "\n",
    "result = is_valid_palindrome('A man, a plan, a canal: Panama!')\n"
   ]
  },
  {
   "cell_type": "code",
   "execution_count": 108,
   "id": "5e5388eb",
   "metadata": {},
   "outputs": [
    {
     "data": {
      "text/plain": [
       "True"
      ]
     },
     "execution_count": 108,
     "metadata": {},
     "output_type": "execute_result"
    }
   ],
   "source": [
    "result"
   ]
  },
  {
   "cell_type": "markdown",
   "id": "a77d3fe8",
   "metadata": {},
   "source": [
    "41. Write a Python program to find the smallest missing positive integer in a list.\n",
    "42. Implement a function to find the longest palindrome substring in a given string.\n",
    "43. Write a program to find the number of occurrences of a given element in a list.\n",
    "44. Implement a function to check if a given number is a perfect number.\n",
    "45. Write a Python program to remove all duplicates from a string.\n",
    "46. Implement a function to find the first missing positive\n"
   ]
  },
  {
   "cell_type": "code",
   "execution_count": 109,
   "id": "c0cc1a3f",
   "metadata": {},
   "outputs": [
    {
     "name": "stdout",
     "output_type": "stream",
     "text": [
      "Smallest missing positive integer: 2\n"
     ]
    }
   ],
   "source": [
    "#Write a Python program to find the smallest missing positive integer in a list.\n",
    "def find_smallest_missing_positive(nums):\n",
    "    n = len(nums)\n",
    "    \n",
    "    # Move non-positive integers and integers greater than n to the end of the list\n",
    "    i = 0\n",
    "    while i < n:\n",
    "        if 1 <= nums[i] <= n and nums[nums[i] - 1] != nums[i]:\n",
    "            nums[nums[i] - 1], nums[i] = nums[i], nums[nums[i] - 1]\n",
    "        else:\n",
    "            i += 1\n",
    "    \n",
    "    # Find the first index where nums[i] != i + 1\n",
    "    for i in range(n):\n",
    "        if nums[i] != i + 1:\n",
    "            return i + 1\n",
    "    \n",
    "    # If all indices are correct, the smallest missing positive integer is n + 1\n",
    "    return n + 1\n",
    "\n",
    "# Example usage\n",
    "input_list = [3, 4, -1, 1]\n",
    "result = find_smallest_missing_positive(input_list)\n",
    "print(\"Smallest missing positive integer:\", result)"
   ]
  },
  {
   "cell_type": "code",
   "execution_count": 111,
   "id": "81fc3305",
   "metadata": {},
   "outputs": [
    {
     "name": "stdout",
     "output_type": "stream",
     "text": [
      "Enter a string: mommy\n",
      "Longest palindrome substring: mom\n"
     ]
    }
   ],
   "source": [
    "#Implement a function to find the longest palindrome substring in a given string.\n",
    "def longest_palindrome_substring(string):\n",
    "    n = len(string)\n",
    "    start = 0\n",
    "    max_length = 1\n",
    "\n",
    "    # Helper function to expand around the center\n",
    "    def expand_around_center(left, right):\n",
    "        nonlocal start, max_length\n",
    "\n",
    "        while left >= 0 and right < n and string[left] == string[right]:\n",
    "            left -= 1\n",
    "            right += 1\n",
    "\n",
    "        current_length = right - left - 1\n",
    "        if current_length > max_length:\n",
    "            start = left + 1\n",
    "            max_length = current_length\n",
    "\n",
    "    # Check for odd-length palindromes\n",
    "    for i in range(n):\n",
    "        expand_around_center(i, i)\n",
    "\n",
    "    # Check for even-length palindromes\n",
    "    for i in range(n - 1):\n",
    "        expand_around_center(i, i + 1)\n",
    "\n",
    "    return string[start:start + max_length]\n",
    "\n",
    "# Example usage\n",
    "input_string = input(\"Enter a string: \")\n",
    "result = longest_palindrome_substring(input_string)\n",
    "print(\"Longest palindrome substring:\", result)"
   ]
  },
  {
   "cell_type": "code",
   "execution_count": 112,
   "id": "199202c2",
   "metadata": {},
   "outputs": [],
   "source": [
    "#Write a program to find the number of occurrences of a given element in a list.\n",
    "def count_occurrences(lst, element):\n",
    "    count = 0\n",
    "    for item in lst:\n",
    "        if item == element:\n",
    "            count += 1\n",
    "    return count\n"
   ]
  },
  {
   "cell_type": "code",
   "execution_count": 115,
   "id": "e8e3132c",
   "metadata": {},
   "outputs": [
    {
     "data": {
      "text/plain": [
       "3"
      ]
     },
     "execution_count": 115,
     "metadata": {},
     "output_type": "execute_result"
    }
   ],
   "source": [
    "count_occurrences([2,3,5,3,4,2,5,2],2)"
   ]
  },
  {
   "cell_type": "code",
   "execution_count": 116,
   "id": "fb8d186e",
   "metadata": {},
   "outputs": [],
   "source": [
    "#Implement a function to check if a given number is a perfect number.\n",
    "def is_perfect_number(number):\n",
    "    if number <= 0:\n",
    "        return False\n",
    "\n",
    "    divisors_sum = 0\n",
    "    for i in range(1, number):\n",
    "        if number % i == 0:\n",
    "            divisors_sum += i\n",
    "\n",
    "    return divisors_sum == number"
   ]
  },
  {
   "cell_type": "code",
   "execution_count": 117,
   "id": "b29ad688",
   "metadata": {},
   "outputs": [
    {
     "data": {
      "text/plain": [
       "True"
      ]
     },
     "execution_count": 117,
     "metadata": {},
     "output_type": "execute_result"
    }
   ],
   "source": [
    "is_perfect_number(28)"
   ]
  },
  {
   "cell_type": "code",
   "execution_count": 118,
   "id": "df00cbf2",
   "metadata": {},
   "outputs": [],
   "source": [
    "#Write a Python program to remove all duplicates from a string.\n",
    "def remove_duplicates(string):\n",
    "    unique_chars = []\n",
    "    for char in string:\n",
    "        if char not in unique_chars:\n",
    "            unique_chars.append(char)\n",
    "    return ''.join(unique_chars)"
   ]
  },
  {
   "cell_type": "code",
   "execution_count": 119,
   "id": "07d1ec14",
   "metadata": {},
   "outputs": [
    {
     "data": {
      "text/plain": [
       "'Helo Wrd'"
      ]
     },
     "execution_count": 119,
     "metadata": {},
     "output_type": "execute_result"
    }
   ],
   "source": [
    "remove_duplicates('Hello World')"
   ]
  },
  {
   "cell_type": "code",
   "execution_count": 120,
   "id": "30fbf946",
   "metadata": {},
   "outputs": [],
   "source": [
    "#Implement a function to find the first missing positive\n",
    "def find_first_missing_positive(nums):\n",
    "    n = len(nums)\n",
    "    \n",
    "    # Move non-positive integers and integers greater than n to the end of the list\n",
    "    i = 0\n",
    "    while i < n:\n",
    "        if 1 <= nums[i] <= n and nums[nums[i] - 1] != nums[i]:\n",
    "            nums[nums[i] - 1], nums[i] = nums[i], nums[nums[i] - 1]\n",
    "        else:\n",
    "            i += 1\n",
    "    \n",
    "    # Find the first index where nums[i] != i + 1\n",
    "    for i in range(n):\n",
    "        if nums[i] != i + 1:\n",
    "            return i + 1\n",
    "    \n",
    "    # If all indices are correct, the first missing positive is n + 1\n",
    "    return n + 1"
   ]
  },
  {
   "cell_type": "code",
   "execution_count": 121,
   "id": "ed97e7c1",
   "metadata": {},
   "outputs": [
    {
     "data": {
      "text/plain": [
       "2"
      ]
     },
     "execution_count": 121,
     "metadata": {},
     "output_type": "execute_result"
    }
   ],
   "source": [
    "find_first_missing_positive([3,4,-1,1])"
   ]
  },
  {
   "cell_type": "code",
   "execution_count": null,
   "id": "88840da3",
   "metadata": {},
   "outputs": [],
   "source": []
  }
 ],
 "metadata": {
  "kernelspec": {
   "display_name": "Python 3 (ipykernel)",
   "language": "python",
   "name": "python3"
  },
  "language_info": {
   "codemirror_mode": {
    "name": "ipython",
    "version": 3
   },
   "file_extension": ".py",
   "mimetype": "text/x-python",
   "name": "python",
   "nbconvert_exporter": "python",
   "pygments_lexer": "ipython3",
   "version": "3.10.9"
  }
 },
 "nbformat": 4,
 "nbformat_minor": 5
}
