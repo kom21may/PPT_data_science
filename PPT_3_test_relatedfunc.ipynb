{
 "cells": [
  {
   "cell_type": "markdown",
   "id": "83e7698b",
   "metadata": {},
   "source": [
    "1. Scenario: A company wants to analyze the sales performance of its products in different regions. They have collected the following data:\n",
    "   Region A: [10, 15, 12, 8, 14]\n",
    "   Region B: [18, 20, 16, 22, 25]\n",
    "   Calculate the mean sales for each region.\n"
   ]
  },
  {
   "cell_type": "code",
   "execution_count": 1,
   "id": "000f3e15",
   "metadata": {},
   "outputs": [],
   "source": [
    "import numpy as np\n",
    "a=[1,15,12,8,14]\n",
    "b=[18,20,16,22,25]\n",
    "a_mean=np.mean(a)\n",
    "b_mean=np.mean(b)"
   ]
  },
  {
   "cell_type": "code",
   "execution_count": 2,
   "id": "e1fff178",
   "metadata": {},
   "outputs": [
    {
     "data": {
      "text/plain": [
       "10.0"
      ]
     },
     "execution_count": 2,
     "metadata": {},
     "output_type": "execute_result"
    }
   ],
   "source": [
    "a_mean"
   ]
  },
  {
   "cell_type": "code",
   "execution_count": 3,
   "id": "d8243e0c",
   "metadata": {},
   "outputs": [
    {
     "data": {
      "text/plain": [
       "20.2"
      ]
     },
     "execution_count": 3,
     "metadata": {},
     "output_type": "execute_result"
    }
   ],
   "source": [
    "b_mean"
   ]
  },
  {
   "cell_type": "markdown",
   "id": "c1021673",
   "metadata": {},
   "source": [
    "2. Scenario: A survey is conducted to measure customer satisfaction on a scale of 1 to 5. The data collected is as follows:\n",
    "   [4, 5, 2, 3, 5, 4, 3, 2, 4, 5]\n",
    "   \n",
    "   Calculate the mode of the survey responses.\n"
   ]
  },
  {
   "cell_type": "code",
   "execution_count": 4,
   "id": "4695afe1",
   "metadata": {},
   "outputs": [],
   "source": [
    "c=np.random.randint(1,6,10)"
   ]
  },
  {
   "cell_type": "code",
   "execution_count": 5,
   "id": "914652ee",
   "metadata": {},
   "outputs": [
    {
     "data": {
      "text/plain": [
       "array([5, 1, 2, 3, 2, 5, 5, 2, 5, 3])"
      ]
     },
     "execution_count": 5,
     "metadata": {},
     "output_type": "execute_result"
    }
   ],
   "source": [
    "c"
   ]
  },
  {
   "cell_type": "code",
   "execution_count": 6,
   "id": "eb03423b",
   "metadata": {},
   "outputs": [
    {
     "data": {
      "text/plain": [
       "5"
      ]
     },
     "execution_count": 6,
     "metadata": {},
     "output_type": "execute_result"
    }
   ],
   "source": [
    "import statistics as st\n",
    "st.mode(c)"
   ]
  },
  {
   "cell_type": "markdown",
   "id": "76a3340b",
   "metadata": {},
   "source": [
    "3. Scenario: A company wants to compare the salaries of two departments. The salary data for Department A and Department B are as follows:\n",
    "   Department A: [5000, 6000, 5500, 7000]\n",
    "   Department B: [4500, 5500, 5800, 6000, 5200]\n",
    "   Calculate the median salary for each department.\n",
    "\n"
   ]
  },
  {
   "cell_type": "code",
   "execution_count": 7,
   "id": "7ba60dcd",
   "metadata": {},
   "outputs": [
    {
     "data": {
      "text/plain": [
       "5750.0"
      ]
     },
     "execution_count": 7,
     "metadata": {},
     "output_type": "execute_result"
    }
   ],
   "source": [
    "dep_a=[5000, 6000, 5500, 7000]\n",
    "dept_b=[4500, 5500, 5800, 6000, 5200]\n",
    "np.median(dep_a)"
   ]
  },
  {
   "cell_type": "code",
   "execution_count": 8,
   "id": "e85aaa8a",
   "metadata": {},
   "outputs": [
    {
     "data": {
      "text/plain": [
       "5500.0"
      ]
     },
     "execution_count": 8,
     "metadata": {},
     "output_type": "execute_result"
    }
   ],
   "source": [
    "np.median(dept_b)"
   ]
  },
  {
   "cell_type": "markdown",
   "id": "b4921ed5",
   "metadata": {},
   "source": [
    "4. Scenario: A data analyst wants to determine the variability in the daily stock prices of a company. The data collected is as follows:\n",
    "   [25.5, 24.8, 26.1, 25.3, 24.9]\n",
    "   Calculate the range of the stock prices.\n"
   ]
  },
  {
   "cell_type": "code",
   "execution_count": 9,
   "id": "4bd26dcf",
   "metadata": {},
   "outputs": [
    {
     "name": "stdout",
     "output_type": "stream",
     "text": [
      "1.3\n"
     ]
    }
   ],
   "source": [
    "stock=[25.5, 24.8, 26.1, 25.3, 24.9]\n",
    "highest=np.max(stock)\n",
    "lowest=np.min(stock)\n",
    "range_x=highest-lowest\n",
    "print(round(range_x,2))"
   ]
  },
  {
   "cell_type": "markdown",
   "id": "958bb965",
   "metadata": {},
   "source": [
    "5. Scenario: A study is conducted to compare the performance of two different teaching methods. The test scores of the students in each group are as follows:\n",
    "   Group A: [85, 90, 92, 88, 91]\n",
    "   Group B: [82, 88, 90, 86, 87]\n",
    "   Perform a t-test to determine if there is a significant difference in the mean scores between the two groups.\n"
   ]
  },
  {
   "cell_type": "code",
   "execution_count": 14,
   "id": "2bb72779",
   "metadata": {},
   "outputs": [
    {
     "name": "stdout",
     "output_type": "stream",
     "text": [
      "1.4312528946642733\n",
      "0.19023970239078333\n",
      "fail to reject the null hypothesis\n"
     ]
    }
   ],
   "source": [
    "from scipy.stats import ttest_ind\n",
    "A=[85, 90, 92, 88, 91]\n",
    "B=[82, 88, 90, 86, 87]\n",
    "t_statistic,p_value=ttest_ind(A,B)\n",
    "alpha=0.05\n",
    "print(t_statistic)\n",
    "print(p_value)\n",
    "if p_value<alpha:\n",
    "    print(\"reject the null hypothesis\")# there is significant difference\n",
    "else:\n",
    "    print(\"fail to reject the null hypothesis\")"
   ]
  },
  {
   "cell_type": "markdown",
   "id": "ab3767dd",
   "metadata": {},
   "source": [
    "6. Scenario: A company wants to analyze the relationship between advertising expenditure and sales. The data collected is as follows:\n",
    "   Advertising Expenditure (in thousands): [10, 15, 12, 8, 14]\n",
    "   Sales (in thousands): [25, 30, 28, 20, 26]\n",
    "   Calculate the correlation coefficient between advertising expenditure and sales\n"
   ]
  },
  {
   "cell_type": "code",
   "execution_count": 16,
   "id": "4d5200d0",
   "metadata": {},
   "outputs": [
    {
     "data": {
      "text/plain": [
       "0.8757511375750132"
      ]
     },
     "execution_count": 16,
     "metadata": {},
     "output_type": "execute_result"
    }
   ],
   "source": [
    "Expenditure= [10, 15, 12, 8, 14] \n",
    "Sales = [25, 30, 28, 20, 26]\n",
    "corr_coef=np.corrcoef(Expenditure,Sales)[0,1]\n",
    "corr_coef"
   ]
  },
  {
   "cell_type": "markdown",
   "id": "4454c934",
   "metadata": {},
   "source": [
    "7. Scenario: A survey is conducted to measure the heights of a group of people. The data collected is as follows:\n",
    "   [160, 170, 165, 155, 175, 180, 170]\n",
    "   Calculate the standard deviation of the heights.\n"
   ]
  },
  {
   "cell_type": "code",
   "execution_count": 17,
   "id": "83982f7a",
   "metadata": {},
   "outputs": [
    {
     "data": {
      "text/plain": [
       "7.953949089757174"
      ]
     },
     "execution_count": 17,
     "metadata": {},
     "output_type": "execute_result"
    }
   ],
   "source": [
    "A=[160, 170, 165, 155, 175, 180, 170]\n",
    "std=np.std(A)\n",
    "std"
   ]
  },
  {
   "cell_type": "markdown",
   "id": "e86c2344",
   "metadata": {},
   "source": [
    "8. Scenario: A company wants to analyze the relationship between employee tenure and job satisfaction. The data collected is as follows:\n",
    "   Employee Tenure (in years): [2, 3, 5, 4, 6, 2, 4]\n",
    "   Job Satisfaction (on a scale of 1 to 10): [7, 8, 6, 9, 5, 7, 6]\n",
    "   Perform a linear regression analysis to predict job satisfaction based on employee tenure.\n"
   ]
  },
  {
   "cell_type": "code",
   "execution_count": 19,
   "id": "08c2f490",
   "metadata": {},
   "outputs": [
    {
     "name": "stdout",
     "output_type": "stream",
     "text": [
      "The slope of the regression line is: -0.4680851063829787\n",
      "The intercept of the regression line is: 8.595744680851062\n",
      "The correlation coefficient (r-value) is: -0.520573376708331\n",
      "The p-value is: 0.23095550952297988\n",
      "The standard error of the estimate is: 0.34333860006713723\n"
     ]
    }
   ],
   "source": [
    "import numpy as np\n",
    "from scipy.stats import linregress\n",
    "\n",
    "tenure = np.array([2, 3, 5, 4, 6, 2, 4])\n",
    "job_satisfaction = np.array([7, 8, 6, 9, 5, 7, 6])\n",
    "\n",
    "slope, intercept, corr_coef , p_value, std_err = linregress(tenure, job_satisfaction)\n",
    "\n",
    "print(\"The slope of the regression line is:\", slope)\n",
    "print(\"The intercept of the regression line is:\", intercept)\n",
    "print(\"The correlation coefficient (r-value) is:\", corr_coef)\n",
    "print(\"The p-value is:\", p_value)\n",
    "print(\"The standard error of the estimate is:\", std_err)"
   ]
  },
  {
   "cell_type": "markdown",
   "id": "e3879022",
   "metadata": {},
   "source": [
    "9. Scenario: A study is conducted to compare the effectiveness of two different medications. The recovery times of the patients in each group are as follows:\n",
    "   Medication A: [10, 12, 14, 11, 13]\n",
    "   Medication B: [15, 17, 16, 14, 18]\n",
    "   Perform an analysis of variance (ANOVA) to determine if there is a significant difference in the mean recovery times between the two medications.\n"
   ]
  },
  {
   "cell_type": "code",
   "execution_count": 20,
   "id": "3fb43206",
   "metadata": {},
   "outputs": [
    {
     "name": "stdout",
     "output_type": "stream",
     "text": [
      "The F-statistic is: 16.0\n",
      "The p-value is: 0.003949772803445326\n"
     ]
    }
   ],
   "source": [
    "import numpy as np\n",
    "from scipy.stats import f_oneway\n",
    "\n",
    "medication_a = np.array([10, 12, 14, 11, 13])\n",
    "medication_b = np.array([15, 17, 16, 14, 18])\n",
    "\n",
    "f_statistic, p_value = f_oneway(medication_a, medication_b)\n",
    "\n",
    "print(\"The F-statistic is:\", f_statistic)\n",
    "print(\"The p-value is:\", p_value)"
   ]
  },
  {
   "cell_type": "markdown",
   "id": "da45ad8a",
   "metadata": {},
   "source": [
    "10. Scenario: A company wants to analyze customer feedback ratings on a scale of 1 to 10. The data collected is\n",
    "\n",
    " as follows:\n",
    "    [8, 9, 7, 6, 8, 10, 9, 8, 7, 8]\n",
    "    Calculate the 75th percentile of the feedback ratings.\n"
   ]
  },
  {
   "cell_type": "code",
   "execution_count": 21,
   "id": "1d2c3718",
   "metadata": {},
   "outputs": [
    {
     "name": "stdout",
     "output_type": "stream",
     "text": [
      "The 75th percentile of the feedback ratings is: 8.75\n"
     ]
    }
   ],
   "source": [
    "import numpy as np\n",
    "\n",
    "feedback_ratings = np.array([8, 9, 7, 6, 8, 10, 9, 8, 7, 8])\n",
    "percentile_75th = np.percentile(feedback_ratings, 75)\n",
    "\n",
    "print(\"The 75th percentile of the feedback ratings is:\", percentile_75th)"
   ]
  },
  {
   "cell_type": "markdown",
   "id": "f32c4630",
   "metadata": {},
   "source": [
    "11. Scenario: A quality control department wants to test the weight consistency of a product. The weights of a sample of products are as follows:\n",
    "    [10.2, 9.8, 10.0, 10.5, 10.3, 10.1]\n",
    "    Perform a hypothesis test to determine if the mean weight differs significantly from 10 grams.\n"
   ]
  },
  {
   "cell_type": "code",
   "execution_count": 23,
   "id": "1701c406",
   "metadata": {},
   "outputs": [
    {
     "name": "stdout",
     "output_type": "stream",
     "text": [
      "The t-statistic is: 1.5126584522688367\n",
      "The p-value is: 0.19077595151110102\n",
      "fail to reject the null hypothesis\n"
     ]
    }
   ],
   "source": [
    "import numpy as np\n",
    "from scipy.stats import ttest_1samp\n",
    "\n",
    "weights = np.array([10.2, 9.8, 10.0, 10.5, 10.3, 10.1])\n",
    "\n",
    "t_statistic, p_value = ttest_1samp(weights, 10)\n",
    "\n",
    "print(\"The t-statistic is:\", t_statistic)\n",
    "print(\"The p-value is:\", p_value)\n",
    "if p_value<alpha:\n",
    "    print(\"reject the null hypothesis\")# there is significant difference\n",
    "else:\n",
    "    print(\"fail to reject the null hypothesis\")"
   ]
  },
  {
   "cell_type": "markdown",
   "id": "fcb709b1",
   "metadata": {},
   "source": [
    "12. Scenario: A company wants to analyze the click-through rates of two different website designs. The number of clicks for each design is as follows:\n",
    "    Design A: [100, 120, 110, 90, 95]\n",
    "    Design B: [80, 85, 90, 95, 100]\n",
    "    Perform a chi-square test to determine if there is a significant difference in the click-through rates between the two designs.\n"
   ]
  },
  {
   "cell_type": "code",
   "execution_count": 26,
   "id": "03c16f76",
   "metadata": {},
   "outputs": [
    {
     "name": "stdout",
     "output_type": "stream",
     "text": [
      "The chi-square statistic is: 6.110658166925435\n",
      "The p-value is: 0.19103526314060296\n"
     ]
    }
   ],
   "source": [
    "import numpy as np\n",
    "from scipy.stats import chi2_contingency\n",
    "\n",
    "design_a = np.array([100, 120, 110, 90, 95])\n",
    "design_b = np.array([80, 85, 90, 95, 100])\n",
    "\n",
    "observed = np.array([design_a, design_b])\n",
    "\n",
    "chi2_statistic, p_value, _, _ = chi2_contingency(observed)\n",
    "\n",
    "print(\"The chi-square statistic is:\", chi2_statistic)\n",
    "print(\"The p-value is:\", p_value)"
   ]
  },
  {
   "cell_type": "markdown",
   "id": "5696245d",
   "metadata": {},
   "source": [
    "13. Scenario: A survey is conducted to measure customer satisfaction with a product on a scale of 1 to 10. The data collected is as follows:\n",
    "    [7, 9, 6, 8, 10, 7, 8, 9, 7, 8]\n",
    "    Calculate the 95% confidence interval for the population mean satisfaction score.\n"
   ]
  },
  {
   "cell_type": "code",
   "execution_count": 27,
   "id": "037d6bf8",
   "metadata": {},
   "outputs": [
    {
     "name": "stdout",
     "output_type": "stream",
     "text": [
      "The 95% confidence interval for the population mean satisfaction score is: (7.2416087105085625, 8.55839128949144)\n"
     ]
    }
   ],
   "source": [
    "import numpy as np\n",
    "from scipy.stats import t\n",
    "\n",
    "satisfaction_scores = np.array([7, 9, 6, 8, 10, 7, 8, 9, 7, 8])\n",
    "\n",
    "mean = np.mean(satisfaction_scores)\n",
    "std_dev = np.std(satisfaction_scores)\n",
    "sample_size = len(satisfaction_scores)\n",
    "confidence_level = 0.95\n",
    "\n",
    "t_value = t.ppf(confidence_level, df=sample_size - 1)\n",
    "margin_of_error = t_value * std_dev / np.sqrt(sample_size)\n",
    "confidence_interval = (mean - margin_of_error, mean + margin_of_error)\n",
    "\n",
    "print(\"The 95% confidence interval for the population mean satisfaction score is:\", confidence_interval)"
   ]
  },
  {
   "cell_type": "markdown",
   "id": "3eb71165",
   "metadata": {},
   "source": [
    "14. Scenario: A company wants to analyze the effect of temperature on product performance. The data collected is as follows:\n",
    "    Temperature (in degrees Celsius): [20, 22, 23, 19, 21]\n",
    "    Performance (on a scale of 1 to 10): [8, 7, 9, 6, 8]\n",
    "    Perform a simple linear regression to predict performance based on temperature.\n"
   ]
  },
  {
   "cell_type": "code",
   "execution_count": 28,
   "id": "85c6bbb0",
   "metadata": {},
   "outputs": [
    {
     "name": "stdout",
     "output_type": "stream",
     "text": [
      "The slope of the regression line is: 0.5\n",
      "The intercept of the regression line is: -2.9000000000000004\n",
      "The correlation coefficient (r-value) is: 0.6933752452815364\n",
      "The p-value is: 0.19417134561205843\n",
      "The standard error of the estimate is: 0.30000000000000004\n"
     ]
    }
   ],
   "source": [
    "import numpy as np\n",
    "from scipy.stats import linregress\n",
    "\n",
    "temperature = np.array([20, 22, 23, 19, 21])\n",
    "performance = np.array([8, 7, 9, 6, 8])\n",
    "\n",
    "slope, intercept, r_value, p_value, std_err = linregress(temperature, performance)\n",
    "\n",
    "print(\"The slope of the regression line is:\", slope)\n",
    "print(\"The intercept of the regression line is:\", intercept)\n",
    "print(\"The correlation coefficient (r-value) is:\", r_value)\n",
    "print(\"The p-value is:\", p_value)\n",
    "print(\"The standard error of the estimate is:\", std_err)"
   ]
  },
  {
   "cell_type": "markdown",
   "id": "26adcc6e",
   "metadata": {},
   "source": [
    "15. Scenario: A study is conducted to compare the preferences of two groups of participants. The preferences are measured on a Likert scale from 1 to 5. The data collected is as follows:\n",
    "    Group A: [4, 3, 5, 2, 4]\n",
    "    Group B: [3, 2, 4, 3, 3]\n",
    "    Perform a Mann-Whitney U test to determine if there is a significant difference in the median preferences between the two groups.\n"
   ]
  },
  {
   "cell_type": "code",
   "execution_count": 29,
   "id": "b18c667e",
   "metadata": {},
   "outputs": [
    {
     "name": "stdout",
     "output_type": "stream",
     "text": [
      "The Mann-Whitney U statistic is: 17.0\n",
      "The p-value is: 0.380836480306712\n"
     ]
    }
   ],
   "source": [
    "import numpy as np\n",
    "from scipy.stats import mannwhitneyu\n",
    "\n",
    "group_a = np.array([4, 3, 5, 2, 4])\n",
    "group_b = np.array([3, 2, 4, 3, 3])\n",
    "\n",
    "u_statistic, p_value = mannwhitneyu(group_a, group_b)\n",
    "\n",
    "print(\"The Mann-Whitney U statistic is:\", u_statistic)\n",
    "print(\"The p-value is:\", p_value)"
   ]
  },
  {
   "cell_type": "markdown",
   "id": "1f2d5ca8",
   "metadata": {},
   "source": [
    "16. Scenario: A company wants to analyze the distribution of customer ages. The data collected is as follows:\n",
    "    [25, 30, 35, 40, 45, 50, 55, 60, 65, 70]\n",
    "    Calculate the interquartile range (IQR) of the ages.\n"
   ]
  },
  {
   "cell_type": "code",
   "execution_count": 30,
   "id": "f00b8b12",
   "metadata": {},
   "outputs": [
    {
     "name": "stdout",
     "output_type": "stream",
     "text": [
      "The interquartile range (IQR) of the ages is: 22.5\n"
     ]
    }
   ],
   "source": [
    "import numpy as np\n",
    "\n",
    "ages = np.array([25, 30, 35, 40, 45, 50, 55, 60, 65, 70])\n",
    "iqr = np.percentile(ages, 75) - np.percentile(ages, 25)\n",
    "\n",
    "print(\"The interquartile range (IQR) of the ages is:\", iqr)"
   ]
  },
  {
   "cell_type": "markdown",
   "id": "d42689f9",
   "metadata": {},
   "source": [
    "17. Scenario: A study is conducted to compare the performance of three different machine learning algorithms. The accuracy scores for each algorithm are as follows:\n",
    "    Algorithm A: [0.85, 0.80, 0.82, 0.87, 0.83]\n",
    "    Algorithm B: [0.78, 0.82, 0.84, 0.80, 0.79]\n",
    "    Algorithm C: [0.90, 0.88, 0.89, 0.86, 0.87]\n",
    "    Perform a Kruskal-Wallis test to determine if there is a significant difference in the median accuracy scores between the algorithms.\n"
   ]
  },
  {
   "cell_type": "code",
   "execution_count": 31,
   "id": "e2d3d18f",
   "metadata": {},
   "outputs": [
    {
     "name": "stdout",
     "output_type": "stream",
     "text": [
      "The Kruskal-Wallis H statistic is: 9.696947935368053\n",
      "The p-value is: 0.007840333026249539\n"
     ]
    }
   ],
   "source": [
    "import numpy as np\n",
    "from scipy.stats import kruskal\n",
    "\n",
    "algorithm_a = np.array([0.85, 0.80, 0.82, 0.87, 0.83])\n",
    "algorithm_b = np.array([0.78, 0.82, 0.84, 0.80, 0.79])\n",
    "algorithm_c = np.array([0.90, 0.88, 0.89, 0.86, 0.87])\n",
    "\n",
    "h_statistic, p_value = kruskal(algorithm_a, algorithm_b, algorithm_c)\n",
    "\n",
    "print(\"The Kruskal-Wallis H statistic is:\", h_statistic)\n",
    "print(\"The p-value is:\", p_value)"
   ]
  },
  {
   "cell_type": "markdown",
   "id": "3e82a8b9",
   "metadata": {},
   "source": [
    "18. Scenario: A company wants to analyze the effect of price on sales. The data collected is as follows:\n",
    "    Price (in dollars): [10, 15, 12, 8, 14]\n",
    "    Sales: [100, 80, 90, 110, 95]\n",
    "    Perform a simple linear regression to predict\n",
    "\n",
    " sales based on price.\n"
   ]
  },
  {
   "cell_type": "code",
   "execution_count": 32,
   "id": "9be8377d",
   "metadata": {},
   "outputs": [
    {
     "name": "stdout",
     "output_type": "stream",
     "text": [
      "The slope of the regression line is: -3.506097560975609\n",
      "The intercept of the regression line is: 136.3719512195122\n",
      "The correlation coefficient (r-value) is: -0.8979991308594848\n",
      "The p-value is: 0.03850178234753776\n",
      "The standard error of the estimate is: 0.9918303504036147\n"
     ]
    }
   ],
   "source": [
    "import numpy as np\n",
    "from scipy.stats import linregress\n",
    "\n",
    "price = np.array([10, 15, 12, 8, 14])\n",
    "sales = np.array([100, 80, 90, 110, 95])\n",
    "\n",
    "slope, intercept, r_value, p_value, std_err = linregress(price, sales)\n",
    "\n",
    "print(\"The slope of the regression line is:\", slope)\n",
    "print(\"The intercept of the regression line is:\", intercept)\n",
    "print(\"The correlation coefficient (r-value) is:\", r_value)\n",
    "print(\"The p-value is:\", p_value)\n",
    "print(\"The standard error of the estimate is:\", std_err)"
   ]
  },
  {
   "cell_type": "markdown",
   "id": "56194e04",
   "metadata": {},
   "source": [
    "19. Scenario: A survey is conducted to measure the satisfaction levels of customers with a new product. The data collected is as follows:\n",
    "    [7, 8, 9, 6, 8, 7, 9, 7, 8, 7]\n",
    "    Calculate the standard error of the mean satisfaction score.\n",
    "\n",
    "20. Scenario: A company wants to analyze the relationship between advertising expenditure and sales. The data collected is as follows:\n",
    "    Advertising Expenditure (in thousands): [10, 15, 12, 8, 14]\n",
    "    Sales (in thousands): [25, 30, 28, 20, 26]\n",
    "    Perform a multiple regression analysis to predict sales based on advertising expenditure.\n"
   ]
  },
  {
   "cell_type": "code",
   "execution_count": 33,
   "id": "a2a20cd5",
   "metadata": {},
   "outputs": [
    {
     "name": "stdout",
     "output_type": "stream",
     "text": [
      "The standard error of the mean satisfaction score is: 0.30550504633038933\n"
     ]
    }
   ],
   "source": [
    "import numpy as np\n",
    "from scipy.stats import sem\n",
    "\n",
    "satisfaction_scores = np.array([7, 8, 9, 6, 8, 7, 9, 7, 8, 7])\n",
    "standard_error = sem(satisfaction_scores)\n",
    "\n",
    "print(\"The standard error of the mean satisfaction score is:\", standard_error)"
   ]
  },
  {
   "cell_type": "code",
   "execution_count": 41,
   "id": "315e142d",
   "metadata": {},
   "outputs": [
    {
     "name": "stdout",
     "output_type": "stream",
     "text": [
      "Requirement already satisfied: statsmodels in c:\\users\\komal\\miniconda3\\lib\\site-packages (0.14.0)\n",
      "Requirement already satisfied: numpy>=1.22.3 in c:\\users\\komal\\miniconda3\\lib\\site-packages (from statsmodels) (1.24.2)\n",
      "Requirement already satisfied: packaging>=21.3 in c:\\users\\komal\\miniconda3\\lib\\site-packages (from statsmodels) (23.0)\n",
      "Requirement already satisfied: pandas>=1.0 in c:\\users\\komal\\miniconda3\\lib\\site-packages (from statsmodels) (2.0.0)\n",
      "Requirement already satisfied: patsy>=0.5.2 in c:\\users\\komal\\miniconda3\\lib\\site-packages (from statsmodels) (0.5.3)\n",
      "Requirement already satisfied: scipy!=1.9.2,>=1.4 in c:\\users\\komal\\miniconda3\\lib\\site-packages (from statsmodels) (1.10.1)\n",
      "Requirement already satisfied: tzdata>=2022.1 in c:\\users\\komal\\miniconda3\\lib\\site-packages (from pandas>=1.0->statsmodels) (2023.3)\n",
      "Requirement already satisfied: pytz>=2020.1 in c:\\users\\komal\\miniconda3\\lib\\site-packages (from pandas>=1.0->statsmodels) (2022.7)\n",
      "Requirement already satisfied: python-dateutil>=2.8.2 in c:\\users\\komal\\miniconda3\\lib\\site-packages (from pandas>=1.0->statsmodels) (2.8.2)\n",
      "Requirement already satisfied: six in c:\\users\\komal\\miniconda3\\lib\\site-packages (from patsy>=0.5.2->statsmodels) (1.16.0)\n",
      "Note: you may need to restart the kernel to use updated packages.\n"
     ]
    }
   ],
   "source": [
    "pip install statsmodels"
   ]
  },
  {
   "cell_type": "code",
   "execution_count": 43,
   "id": "50089ecb",
   "metadata": {},
   "outputs": [
    {
     "name": "stdout",
     "output_type": "stream",
     "text": [
      "The regression coefficients are: [12.20121951  1.15243902]\n",
      "The R-squared value is: 0.7669400549639301\n"
     ]
    }
   ],
   "source": [
    "import numpy as np\n",
    "import statsmodels.api as sm\n",
    "\n",
    "advertising_expenditure = np.array([10, 15, 12, 8, 14])\n",
    "sales = np.array([25, 30, 28, 20, 26])\n",
    "\n",
    "expenditure_with_constant = sm.add_constant(advertising_expenditure)\n",
    "model = sm.OLS(sales, expenditure_with_constant)\n",
    "results = model.fit()\n",
    "\n",
    "print(\"The regression coefficients are:\", results.params)\n",
    "print(\"The R-squared value is:\", results.rsquared)"
   ]
  },
  {
   "cell_type": "code",
   "execution_count": null,
   "id": "a11d4921",
   "metadata": {},
   "outputs": [],
   "source": []
  }
 ],
 "metadata": {
  "kernelspec": {
   "display_name": "Python 3 (ipykernel)",
   "language": "python",
   "name": "python3"
  },
  "language_info": {
   "codemirror_mode": {
    "name": "ipython",
    "version": 3
   },
   "file_extension": ".py",
   "mimetype": "text/x-python",
   "name": "python",
   "nbconvert_exporter": "python",
   "pygments_lexer": "ipython3",
   "version": "3.10.9"
  }
 },
 "nbformat": 4,
 "nbformat_minor": 5
}
